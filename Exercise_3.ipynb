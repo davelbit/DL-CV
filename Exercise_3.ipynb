{
  "cells": [
    {
      "cell_type": "markdown",
      "metadata": {
        "id": "XPPysUMOZxgz"
      },
      "source": [
        "# Exercise 3\n",
        "## Generative adversarial networks\n",
        "### Generating of MNIST digits with a GAN\n",
        "\n",
        "First we import the modules we need"
      ]
    },
    {
      "cell_type": "code",
      "execution_count": 16,
      "metadata": {
        "id": "TlFFUmfoZxg1"
      },
      "outputs": [],
      "source": [
        "import numpy as np\n",
        "from tqdm.notebook import tqdm\n",
        "import torch\n",
        "import torch.nn as nn\n",
        "import torch.nn.functional as F\n",
        "import torchvision.datasets as datasets\n",
        "from torch.utils.data import DataLoader\n",
        "import torchvision.transforms as transforms\n",
        "from IPython import display\n",
        "import matplotlib.pylab as plt\n",
        "import ipywidgets\n",
        "\n",
        "from torch.autograd.variable import Variable"
      ]
    },
    {
      "cell_type": "markdown",
      "metadata": {
        "id": "UKTYJngTuOtG"
      },
      "source": [
        "Check that we're running on GPU, and initialize our device"
      ]
    },
    {
      "cell_type": "code",
      "execution_count": 17,
      "metadata": {
        "id": "RLcplSTKZxg4"
      },
      "outputs": [
        {
          "name": "stdout",
          "output_type": "stream",
          "text": [
            "The code will run on GPU.\n"
          ]
        }
      ],
      "source": [
        "if torch.cuda.is_available():\n",
        "    print(\"The code will run on GPU.\")\n",
        "else:\n",
        "    print(\"The code will run on CPU. Go to Edit->Notebook Settings and choose GPU as the hardware accelerator\")\n",
        "device = torch.device('cuda' if torch.cuda.is_available() else 'cpu')"
      ]
    },
    {
      "cell_type": "markdown",
      "metadata": {
        "id": "lV2YzpnSuUwt"
      },
      "source": [
        "Setup our MNIST dataloaders"
      ]
    },
    {
      "cell_type": "code",
      "execution_count": 18,
      "metadata": {
        "id": "hSXlDTz0Zxg7"
      },
      "outputs": [],
      "source": [
        "batch_size = 64\n",
        "trainset = datasets.MNIST('./data', train=True, download=True, transform=transforms.ToTensor())\n",
        "train_loader = DataLoader(trainset, batch_size=batch_size, shuffle=True)\n",
        "testset = datasets.MNIST('./data', train=False, download=True, transform=transforms.ToTensor())\n",
        "test_loader = DataLoader(testset, batch_size=batch_size, shuffle=False)"
      ]
    },
    {
      "cell_type": "markdown",
      "metadata": {
        "id": "dhxprWbiZxg-"
      },
      "source": [
        "Implement your **generator** network as a fully connected neural network.\n",
        "\n",
        "You could start with a network that:\n",
        "* takes as input a 100 long vector\n",
        "* has four hidden layers with 2848 neurons\n",
        "* uses LeakyReLU as the activation function\n",
        "* uses BatchNorm\n",
        "* has Tanh as the last layer (we work with MNIST in the -1 to 1 range)"
      ]
    },
    {
      "cell_type": "code",
      "execution_count": 19,
      "metadata": {
        "id": "aHYx5QejZxg_"
      },
      "outputs": [],
      "source": [
        "class Generator(nn.Module):\n",
        "    def __init__(self):\n",
        "        super(Generator, self).__init__()\n",
        "        self.n_features = 100\n",
        "        self.n_out = 784\n",
        "        self.fc0 = nn.Sequential(\n",
        "                    nn.Linear(self.n_features, 256),\n",
        "                    nn.LeakyReLU(0.2)\n",
        "                    )\n",
        "        self.fc1 = nn.Sequential(\n",
        "                    nn.Linear(256, 512),\n",
        "                    nn.LeakyReLU(0.2)\n",
        "                    )\n",
        "        self.fc2 = nn.Sequential(\n",
        "                    nn.Linear(512, 1024),\n",
        "                    nn.LeakyReLU(0.2)\n",
        "                    )\n",
        "        self.fc3 = nn.Sequential(\n",
        "                    nn.Linear(1024, self.n_out),\n",
        "                    nn.Tanh()\n",
        "                    )\n",
        "    def forward(self, x):\n",
        "        x = self.fc0(x)\n",
        "        x = self.fc1(x)\n",
        "        x = self.fc2(x)\n",
        "        x = self.fc3(x)\n",
        "        x = x.view(-1, 1, 28, 28)\n",
        "        return x\n"
      ]
    },
    {
      "cell_type": "markdown",
      "metadata": {
        "id": "tGcxpGzQZxhD"
      },
      "source": [
        "Implement your **d** network as a fully connected neural network\n",
        "\n",
        "Start out with a network that\n",
        "* takes as input an $28\\times28$ image\n",
        "* has three hidden layers with [1024, 512, 256] neurons respectively\n",
        "* uses LeakyReLU as the activation function\n",
        "* uses Dropout\n",
        "* has no activation on the final layer (we will call sigmoid if we want a probability)"
      ]
    },
    {
      "cell_type": "code",
      "execution_count": 20,
      "metadata": {
        "id": "e7GEvrDvZxhD"
      },
      "outputs": [],
      "source": [
        "class Discriminator(nn.Module):\n",
        "    def __init__(self):\n",
        "        super(Discriminator, self).__init__()\n",
        "        self.fc = nn.Sequential(\n",
        "            nn.Linear(28*28,1024),\n",
        "            nn.LeakyReLU(0.2),\n",
        "            nn.Dropout(0.2),\n",
        "            nn.Linear(1024,512),\n",
        "            nn.LeakyReLU(0.2),\n",
        "            nn.Dropout(0.2),\n",
        "            nn.Linear(512,1),\n",
        "            # nn.Sigmoid()\n",
        "        )\n",
        "\n",
        "\n",
        "    \n",
        "    def forward(self, x):\n",
        "        x = x.view(x.size(0), -1)\n",
        "        x = self.fc(x)\n",
        "        return x"
      ]
    },
    {
      "cell_type": "markdown",
      "metadata": {
        "id": "jWDuWiwP-pj6"
      },
      "source": [
        "Now let's train our model"
      ]
    },
    {
      "cell_type": "code",
      "execution_count": 21,
      "metadata": {},
      "outputs": [],
      "source": [
        "def noise(n, n_features=128):\n",
        "    return Variable(torch.randn(n, n_features)).to(device)\n",
        "\n",
        "def make_ones(size):\n",
        "    data = Variable(torch.ones(size, 1))\n",
        "    return data.to(device)\n",
        "\n",
        "def make_zeros(size):\n",
        "    data = Variable(torch.zeros(size, 1))\n",
        "    return data.to(device)\n",
        "\n",
        "def train_discriminator(optimizer, real_data, fake_data):\n",
        "    n = real_data.size(0)\n",
        "\n",
        "    optimizer.zero_grad()\n",
        "    \n",
        "    prediction_real = d(real_data)\n",
        "    error_real = criterion(prediction_real, make_ones(n))\n",
        "    error_real.backward()\n",
        "\n",
        "    prediction_fake = d(fake_data)\n",
        "    error_fake = criterion(prediction_fake, make_zeros(n))\n",
        "    \n",
        "    error_fake.backward()\n",
        "    optimizer.step()\n",
        "    \n",
        "    return error_real + error_fake\n",
        "\n",
        "def train_generator(optimizer, fake_data):\n",
        "    n = fake_data.size(0)\n",
        "    optimizer.zero_grad()\n",
        "    \n",
        "    prediction = d(fake_data)\n",
        "    error = criterion(prediction, make_ones(n))\n",
        "    \n",
        "    error.backward()\n",
        "    optimizer.step()\n",
        "    \n",
        "    return error"
      ]
    },
    {
      "cell_type": "code",
      "execution_count": 23,
      "metadata": {
        "id": "fn8RKyxLZxhG"
      },
      "outputs": [
        {
          "data": {
            "image/png": "[encoded data removed]",
            "text/plain": [
              "<Figure size 1440x720 with 12 Axes>"
            ]
          },
          "metadata": {
            "needs_background": "light"
          },
          "output_type": "display_data"
        }
      ],
      "source": [
        "\n",
        "d = Discriminator().to(device)\n",
        "g = Generator().to(device)\n",
        "d_opt = torch.optim.Adam(d.parameters(), 0.0004, (0.5, 0.999))\n",
        "g_opt = torch.optim.Adam(g.parameters(), 0.0001, (0.5, 0.999))\n",
        "\n",
        "plt.figure(figsize=(20,10))\n",
        "subplots = [plt.subplot(2, 6, k+1) for k in range(12)]\n",
        "num_epochs = 10\n",
        "discriminator_final_layer = torch.sigmoid\n",
        "\n",
        "criterion = nn.BCELoss()\n",
        "\n",
        "for epoch in range(num_epochs):\n",
        "    for minibatch_no, (x, target) in enumerate(train_loader):\n",
        "        \n",
        "        x_real = x.to(device)*2-1 #scale to (-1, 1) range\n",
        "        z = torch.randn(x.shape[0], 100).to(device)\n",
        "        x_fake = g(z).detach()\n",
        "    \n",
        "        zeros = Variable(torch.zeros(len(target),1).to(device))\n",
        "        ones = Variable(torch.ones(len(target),1).to(device))\n",
        "\n",
        "        #remember to detach x_fake before using it to compute the discriminator loss\n",
        "        #otherwise the discriminator loss will backpropagate through the generator as well, which is unnecessary.\n",
        "        d_opt.zero_grad()\n",
        "\n",
        "        pred_real = discriminator_final_layer(d(x_real))\n",
        "        d_err_real = criterion(pred_real,ones)\n",
        "        d_err_real.backward()\n",
        "        \n",
        "        pred_fake = discriminator_final_layer(d(x_fake))\n",
        "        d_err_fake = criterion(pred_fake,zeros)\n",
        "        d_err_fake.backward()\n",
        "\n",
        "        d_opt.step()\n",
        "\n",
        "        d_loss = d_err_real + d_err_fake \n",
        "\n",
        "        #Update generator\n",
        "        z = torch.randn(x.shape[0], 100).to(device)\n",
        "        x_fake = g(z)\n",
        "\n",
        "        g_opt.zero_grad()\n",
        "        \n",
        "        prediction = discriminator_final_layer(d(x_fake))\n",
        "        g_loss = criterion(prediction, ones)\n",
        "      \n",
        "        g_loss.backward()\n",
        "        g_opt.step()\n",
        "        \n",
        "        assert(not np.isnan(d_loss.item()))\n",
        "        \n",
        "        #Plot results every 100 minibatches\n",
        "        if minibatch_no % 100 == 0:\n",
        "            with torch.no_grad():\n",
        "                P = discriminator_final_layer(d(x_fake))\n",
        "                for k in range(11):\n",
        "                    x_fake_k = x_fake[k].cpu().squeeze()/2+.5\n",
        "                    subplots[k].imshow(x_fake_k, cmap='gray')\n",
        "                    subplots[k].set_title('d(x)=%.2f' % P[k])\n",
        "                    subplots[k].axis('off')\n",
        "                z = torch.randn(batch_size, 100).to(device)\n",
        "                H1 = discriminator_final_layer(d(g(z))).cpu()\n",
        "                H2 = discriminator_final_layer(d(x_real)).cpu()\n",
        "                plot_min = min(H1.min(), H2.min()).item()\n",
        "                plot_max = max(H1.max(), H2.max()).item()\n",
        "                subplots[-1].cla()\n",
        "                subplots[-1].hist(H1.squeeze(), label='fake', range=(plot_min, plot_max), alpha=0.5)\n",
        "                subplots[-1].hist(H2.squeeze(), label='real', range=(plot_min, plot_max), alpha=0.5)\n",
        "                subplots[-1].legend()\n",
        "                subplots[-1].set_xlabel('Probability of being real')\n",
        "                subplots[-1].set_title('Discriminator loss: %.2f' % d_loss.item())\n",
        "                \n",
        "                title = 'Epoch {e} - minibatch {n}/{d}'.format(e=epoch+1, n=minibatch_no, d=len(train_loader))\n",
        "                plt.gcf().suptitle(title, fontsize=20)\n",
        "                display.display(plt.gcf())\n",
        "                display.clear_output(wait=True)\n"
      ]
    },
    {
      "cell_type": "markdown",
      "metadata": {
        "id": "S51bKUY_ZxhJ"
      },
      "source": [
        "Do you get a model to generate nice images?\n",
        "\n",
        "The plot shows probabilities of real and generated digits being classified as real. Is the discriminator able to distinguish real from fake? If not, try increasing the capacity of the discriminator.\n",
        "Feel free to change the architecture as you see fit.\n",
        "\n",
        "## Additional tasks\n",
        "* Change the architecture to get better results\n",
        "* Implement an LSGAN\n",
        "* Implement a WGAN with SN\n",
        "* Convert your network to a DCGAN\n",
        "* Visualize what happens when you interpolate between to points in the latent space\n",
        "* Generate images from FashionMNIST\n",
        "\n",
        "### Harder tasks:\n",
        "* Add data augmentation to fake and real images\n",
        "* Use the data augmentation to the generated images \n",
        "* Convert your architecture into an AC-GAN"
      ]
    }
  ],
  "metadata": {
    "accelerator": "GPU",
    "colab": {
      "collapsed_sections": [],
      "name": "Exercise_3.ipynb",
      "provenance": []
    },
    "interpreter": {
      "hash": "3e040c23c53c832fae2f554ac6e3c5d4386301d3419293bfc0fe5f819105dfdc"
    },
    "kernelspec": {
      "display_name": "Python 3 (ipykernel)",
      "language": "python",
      "name": "python3"
    },
    "language_info": {
      "codemirror_mode": {
        "name": "ipython",
        "version": 3
      },
      "file_extension": ".py",
      "mimetype": "text/x-python",
      "name": "python",
      "nbconvert_exporter": "python",
      "pygments_lexer": "ipython3",
      "version": "3.8.11"
    }
  },
  "nbformat": 4,
  "nbformat_minor": 0
}
